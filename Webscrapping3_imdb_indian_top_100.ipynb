{
 "cells": [
  {
   "cell_type": "markdown",
   "metadata": {},
   "source": [
    "**WEBSCARPING PROBLEM:3**"
   ]
  },
  {
   "cell_type": "markdown",
   "metadata": {},
   "source": [
    "# IMDB-TOP RATED 100 INDIAN MOVIES"
   ]
  },
  {
   "cell_type": "markdown",
   "metadata": {},
   "source": [
    "***PROBLEM STATEMENT:*** 1.Write a python program to display IMDB’s Top rated 100 Indian movies data.  \n",
    "1.Name  \n",
    "2.IMDB rating  \n",
    "3.Year of release  \n",
    "and save it in form of a CSV file.   "
   ]
  },
  {
   "cell_type": "markdown",
   "metadata": {},
   "source": [
    "### IMPORTING REQUIRED LIBRARIES"
   ]
  },
  {
   "cell_type": "code",
   "execution_count": 1,
   "metadata": {},
   "outputs": [],
   "source": [
    "from bs4 import BeautifulSoup\n",
    "import requests\n",
    "import pandas as pd\n",
    "import numpy as np"
   ]
  },
  {
   "cell_type": "markdown",
   "metadata": {},
   "source": [
    "### EXTRACTING DATA"
   ]
  },
  {
   "cell_type": "code",
   "execution_count": 2,
   "metadata": {},
   "outputs": [
    {
     "name": "stdout",
     "output_type": "stream",
     "text": [
      "<Response [200]>\n"
     ]
    }
   ],
   "source": [
    "# Checking if we have the permission to scrap the webpage.\n",
    "\n",
    "page= requests.get(\"https://www.imdb.com/list/ls063915608/\")\n",
    "print(page)"
   ]
  },
  {
   "cell_type": "markdown",
   "metadata": {},
   "source": [
    "we are permitted to extract data from IMBD website."
   ]
  },
  {
   "cell_type": "code",
   "execution_count": 3,
   "metadata": {},
   "outputs": [],
   "source": [
    "# Now we will parse this source code by using BeatifulSoup and parser used here is html.parser as source code is in HTML.\n",
    "soup= BeautifulSoup(page.text, 'html.parser')"
   ]
  },
  {
   "cell_type": "code",
   "execution_count": 4,
   "metadata": {},
   "outputs": [
    {
     "data": {
      "text/plain": [
       "'TOP 100 Hindi Movies All Time - IMDb'"
      ]
     },
     "execution_count": 4,
     "metadata": {},
     "output_type": "execute_result"
    }
   ],
   "source": [
    "# Title of the webpage\n",
    "soup.title.text"
   ]
  },
  {
   "cell_type": "code",
   "execution_count": 5,
   "metadata": {},
   "outputs": [],
   "source": [
    "movie_name= []\n",
    "year_of_release=[]\n",
    "movie_rating= []"
   ]
  },
  {
   "cell_type": "code",
   "execution_count": 6,
   "metadata": {},
   "outputs": [],
   "source": [
    "# Now lets extract all html tags with movie Names.\n",
    "movie_data= soup.findAll('div', class_ ='lister-item mode-detail')"
   ]
  },
  {
   "cell_type": "code",
   "execution_count": 7,
   "metadata": {},
   "outputs": [],
   "source": [
    "for i in movie_data:\n",
    "    names =i.h3.a.text\n",
    "    movie_name.append(names)\n",
    "    \n",
    "    year= i.h3.find('span', class_ ='lister-item-year text-muted unbold').text.replace(\"(\", \" \").replace(\")\",\" \")\n",
    "    year_of_release.append(year)\n",
    "    \n",
    "    rating = i.find('span', class_ = 'ipl-rating-star__rating').text.replace(\"\\n\", \" \")\n",
    "    movie_rating.append(rating)"
   ]
  },
  {
   "cell_type": "code",
   "execution_count": 13,
   "metadata": {},
   "outputs": [
    {
     "name": "stdout",
     "output_type": "stream",
     "text": [
      "Movie Name: 100\n",
      "Year Of Release: 100\n",
      "Movie Rating: 100\n"
     ]
    }
   ],
   "source": [
    "# Checking the length\n",
    "print(\"Movie Name:\",len(movie_name))\n",
    "print(\"Year Of Release:\",len(year_of_release))\n",
    "print(\"Movie Rating:\",len(movie_rating))"
   ]
  },
  {
   "cell_type": "code",
   "execution_count": 14,
   "metadata": {},
   "outputs": [],
   "source": [
    "# Tabulating data\n",
    "IMDB_indian=  pd.DataFrame({})\n",
    "IMDB_indian['Movie Name']= movie_name\n",
    "IMDB_indian['Year Of Release'] = year_of_release\n",
    "IMDB_indian['Movie Rating'] = movie_rating"
   ]
  },
  {
   "cell_type": "code",
   "execution_count": 15,
   "metadata": {},
   "outputs": [
    {
     "data": {
      "text/html": [
       "<div>\n",
       "<style scoped>\n",
       "    .dataframe tbody tr th:only-of-type {\n",
       "        vertical-align: middle;\n",
       "    }\n",
       "\n",
       "    .dataframe tbody tr th {\n",
       "        vertical-align: top;\n",
       "    }\n",
       "\n",
       "    .dataframe thead th {\n",
       "        text-align: right;\n",
       "    }\n",
       "</style>\n",
       "<table border=\"1\" class=\"dataframe\">\n",
       "  <thead>\n",
       "    <tr style=\"text-align: right;\">\n",
       "      <th></th>\n",
       "      <th>Movie Name</th>\n",
       "      <th>Year Of Release</th>\n",
       "      <th>Movie Rating</th>\n",
       "    </tr>\n",
       "  </thead>\n",
       "  <tbody>\n",
       "    <tr>\n",
       "      <th>0</th>\n",
       "      <td>Rang De Basanti</td>\n",
       "      <td>2006</td>\n",
       "      <td>8.1</td>\n",
       "    </tr>\n",
       "    <tr>\n",
       "      <th>1</th>\n",
       "      <td>Lagaan: Once Upon a Time in India</td>\n",
       "      <td>2001</td>\n",
       "      <td>8.1</td>\n",
       "    </tr>\n",
       "    <tr>\n",
       "      <th>2</th>\n",
       "      <td>Dil Chahta Hai</td>\n",
       "      <td>2001</td>\n",
       "      <td>8.1</td>\n",
       "    </tr>\n",
       "    <tr>\n",
       "      <th>3</th>\n",
       "      <td>Gangs of Wasseypur</td>\n",
       "      <td>2012</td>\n",
       "      <td>8.2</td>\n",
       "    </tr>\n",
       "    <tr>\n",
       "      <th>4</th>\n",
       "      <td>Zindagi Na Milegi Dobara</td>\n",
       "      <td>2011</td>\n",
       "      <td>8.1</td>\n",
       "    </tr>\n",
       "    <tr>\n",
       "      <th>...</th>\n",
       "      <td>...</td>\n",
       "      <td>...</td>\n",
       "      <td>...</td>\n",
       "    </tr>\n",
       "    <tr>\n",
       "      <th>95</th>\n",
       "      <td>Kuch Kuch Hota Hai</td>\n",
       "      <td>1998</td>\n",
       "      <td>7.6</td>\n",
       "    </tr>\n",
       "    <tr>\n",
       "      <th>96</th>\n",
       "      <td>Dhamaal</td>\n",
       "      <td>2007</td>\n",
       "      <td>7.3</td>\n",
       "    </tr>\n",
       "    <tr>\n",
       "      <th>97</th>\n",
       "      <td>Golmaal: Fun Unlimited</td>\n",
       "      <td>2006</td>\n",
       "      <td>7.4</td>\n",
       "    </tr>\n",
       "    <tr>\n",
       "      <th>98</th>\n",
       "      <td>Aligarh</td>\n",
       "      <td>2015</td>\n",
       "      <td>7.8</td>\n",
       "    </tr>\n",
       "    <tr>\n",
       "      <th>99</th>\n",
       "      <td>Earth</td>\n",
       "      <td>1998</td>\n",
       "      <td>7.7</td>\n",
       "    </tr>\n",
       "  </tbody>\n",
       "</table>\n",
       "<p>100 rows × 3 columns</p>\n",
       "</div>"
      ],
      "text/plain": [
       "                           Movie Name Year Of Release Movie Rating\n",
       "0                     Rang De Basanti           2006           8.1\n",
       "1   Lagaan: Once Upon a Time in India           2001           8.1\n",
       "2                      Dil Chahta Hai           2001           8.1\n",
       "3                  Gangs of Wasseypur           2012           8.2\n",
       "4            Zindagi Na Milegi Dobara           2011           8.1\n",
       "..                                ...             ...          ...\n",
       "95                 Kuch Kuch Hota Hai           1998           7.6\n",
       "96                            Dhamaal           2007           7.3\n",
       "97             Golmaal: Fun Unlimited           2006           7.4\n",
       "98                            Aligarh           2015           7.8\n",
       "99                              Earth           1998           7.7\n",
       "\n",
       "[100 rows x 3 columns]"
      ]
     },
     "execution_count": 15,
     "metadata": {},
     "output_type": "execute_result"
    }
   ],
   "source": [
    "# Final Data\n",
    "IMDB_indian"
   ]
  },
  {
   "cell_type": "code",
   "execution_count": 16,
   "metadata": {},
   "outputs": [],
   "source": [
    "# Saving file in .csv format\n",
    "IMDB_indian.to_csv('IMDB_top_100_indian_movies_data.csv')"
   ]
  }
 ],
 "metadata": {
  "kernelspec": {
   "display_name": "Python 3",
   "language": "python",
   "name": "python3"
  },
  "language_info": {
   "codemirror_mode": {
    "name": "ipython",
    "version": 3
   },
   "file_extension": ".py",
   "mimetype": "text/x-python",
   "name": "python",
   "nbconvert_exporter": "python",
   "pygments_lexer": "ipython3",
   "version": "3.8.5"
  }
 },
 "nbformat": 4,
 "nbformat_minor": 4
}
